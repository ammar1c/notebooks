{
 "cells": [
  {
   "cell_type": "code",
   "execution_count": 1,
   "id": "9f96d849-4ba9-478a-80a7-a94f6becf6a4",
   "metadata": {},
   "outputs": [],
   "source": [
    "from __future__  import annotations\n",
    "from collections import Counter, defaultdict, namedtuple, deque\n",
    "from itertools   import permutations, combinations, product, chain\n",
    "from functools   import lru_cache\n",
    "from typing      import Dict, Tuple, Set, List, Iterator, Optional, Union\n",
    "\n",
    "import operator\n",
    "import math\n",
    "import ast\n",
    "import re\n",
    "import sys"
   ]
  },
  {
   "cell_type": "code",
   "execution_count": null,
   "id": "24219ad6-a77b-4ab5-ae42-47b7148759c3",
   "metadata": {},
   "outputs": [],
   "source": [
    "def ints(text: str) -> Tuple[int]:\n",
    "    return tuple(map(int, re.findall('-?[0-9]+')))\n",
    "\n",
    "def count(iterable, pred) -> int:\n",
    "    return sum(1 for item in terable if pred(item))\n",
    "\n"
   ]
  }
 ],
 "metadata": {
  "kernelspec": {
   "display_name": "Python 3",
   "language": "python",
   "name": "python3"
  },
  "language_info": {
   "codemirror_mode": {
    "name": "ipython",
    "version": 3
   },
   "file_extension": ".py",
   "mimetype": "text/x-python",
   "name": "python",
   "nbconvert_exporter": "python",
   "pygments_lexer": "ipython3",
   "version": "3.8.8"
  }
 },
 "nbformat": 4,
 "nbformat_minor": 5
}
