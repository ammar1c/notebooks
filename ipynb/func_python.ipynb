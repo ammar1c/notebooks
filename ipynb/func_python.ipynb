{
 "cells": [
  {
   "cell_type": "code",
   "execution_count": null,
   "id": "5770a2c8-d535-4676-b2c4-6ee3c30f76ed",
   "metadata": {},
   "outputs": [],
   "source": []
  },
  {
   "cell_type": "code",
   "execution_count": 23,
   "id": "9b4b6410-08a1-49f9-a644-30d1665ec724",
   "metadata": {},
   "outputs": [],
   "source": [
    "from collections import defaultdict, deque, Counter, namedtuple, abc\n",
    "from itertools   import chain, cycle, islice, combinations, permutations, repeat, takewhile, zip_longest\n",
    "from itertools   import product as crossproduct, count as count_from\n",
    "from math        import ceil, floor, factorial, gcd, log, sqrt, inf\n",
    "from functools   import lru_cache, wraps\n",
    "import random\n",
    "import time\n"
   ]
  },
  {
   "cell_type": "code",
   "execution_count": 21,
   "id": "580101cd-2d63-447c-88c5-c0ae77881f24",
   "metadata": {
    "pycharm": {
     "is_executing": true
    }
   },
   "outputs": [],
   "source": [
    "thousand   = 10 ** 3\n",
    "million    = 10 ** 6\n",
    "identity   = lambda x: x\n",
    "cat        = ''.join\n",
    "\n",
    "def find_first(iterable, pred, default = None):\n",
    "    \"\"\"Returns first element for which predicate pred is true. If nothing \n",
    "    found returns default\"\"\"\n",
    "    return next(filter(pred, iterable), default)\n",
    "\n",
    "def multiply(numbers):\n",
    "    result = 1\n",
    "    for n in numbers:\n",
    "        result *= n\n",
    "    return result\n",
    "\n",
    "def groupby(iterable, key=identity):\n",
    "    res = defaultdict(list)\n",
    "    for el in iterable:\n",
    "        k = key(el)\n",
    "        res[k].append(el)\n",
    "    return res"
   ]
  },
  {
   "cell_type": "code",
   "execution_count": 14,
   "id": "2b8d19e6-6974-4438-874e-28817f5ef16e",
   "metadata": {},
   "outputs": [],
   "source": [
    "it = iter([1,2,3,5])"
   ]
  },
  {
   "cell_type": "code",
   "execution_count": 26,
   "id": "e0152a5d-acca-4153-be28-af47c34e05e3",
   "metadata": {},
   "outputs": [
    {
     "data": {
      "text/plain": [
       "defaultdict(list,\n",
       "            {'a': [(0, 'a'),\n",
       "              (0, 'a'),\n",
       "              (1, 'a'),\n",
       "              (1, 'a'),\n",
       "              (2, 'a'),\n",
       "              (2, 'a'),\n",
       "              (3, 'a'),\n",
       "              (3, 'a'),\n",
       "              (4, 'a'),\n",
       "              (4, 'a'),\n",
       "              (5, 'a'),\n",
       "              (5, 'a'),\n",
       "              (6, 'a'),\n",
       "              (6, 'a'),\n",
       "              (7, 'a'),\n",
       "              (7, 'a'),\n",
       "              (8, 'a'),\n",
       "              (8, 'a'),\n",
       "              (9, 'a'),\n",
       "              (9, 'a')],\n",
       "             'b': [(0, 'b'),\n",
       "              (1, 'b'),\n",
       "              (2, 'b'),\n",
       "              (3, 'b'),\n",
       "              (4, 'b'),\n",
       "              (5, 'b'),\n",
       "              (6, 'b'),\n",
       "              (7, 'b'),\n",
       "              (8, 'b'),\n",
       "              (9, 'b')],\n",
       "             'c': [(0, 'c'),\n",
       "              (1, 'c'),\n",
       "              (2, 'c'),\n",
       "              (3, 'c'),\n",
       "              (4, 'c'),\n",
       "              (5, 'c'),\n",
       "              (6, 'c'),\n",
       "              (7, 'c'),\n",
       "              (8, 'c'),\n",
       "              (9, 'c')]})"
      ]
     },
     "execution_count": 26,
     "metadata": {},
     "output_type": "execute_result"
    }
   ],
   "source": [
    "groupby(crossproduct(range(10), \"abca\"), lambda x: x[1])"
   ]
  },
  {
   "cell_type": "code",
   "execution_count": null,
   "id": "fb92ac90-4de6-499d-9361-30b208710371",
   "metadata": {},
   "outputs": [],
   "source": []
  }
 ],
 "metadata": {
  "kernelspec": {
   "display_name": "Python 3",
   "language": "python",
   "name": "python3"
  },
  "language_info": {
   "codemirror_mode": {
    "name": "ipython",
    "version": 3
   },
   "file_extension": ".py",
   "mimetype": "text/x-python",
   "name": "python",
   "nbconvert_exporter": "python",
   "pygments_lexer": "ipython3",
   "version": "3.8.8"
  }
 },
 "nbformat": 4,
 "nbformat_minor": 5
}
